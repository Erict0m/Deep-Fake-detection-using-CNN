{
 "cells": [
  {
   "cell_type": "code",
   "execution_count": null,
   "metadata": {
    "id": "SEKshtUego-H"
   },
   "outputs": [],
   "source": [
    "from google.colab import drive\n",
    "drive.mount('/content/drive')"
   ]
  },
  {
   "cell_type": "code",
   "execution_count": null,
   "metadata": {
    "id": "KEgpVgXtiFri"
   },
   "outputs": [],
   "source": [
    "!pip install tensorflow_addons"
   ]
  },
  {
   "cell_type": "code",
   "execution_count": 3,
   "metadata": {
    "execution": {
     "iopub.execute_input": "2021-08-03T07:59:26.075069Z",
     "iopub.status.busy": "2021-08-03T07:59:26.074633Z",
     "iopub.status.idle": "2021-08-03T07:59:32.569619Z",
     "shell.execute_reply": "2021-08-03T07:59:32.568791Z",
     "shell.execute_reply.started": "2021-08-03T07:59:26.074979Z"
    },
    "id": "Ujml0gvAgkGn"
   },
   "outputs": [],
   "source": [
    "import tensorflow as tf\n",
    "from tensorflow import keras\n",
    "from tensorflow.keras.models import Sequential\n",
    "from tensorflow.keras.layers import Dense, Conv2D, MaxPooling2D, Flatten\n",
    "import numpy as np\n",
    "import matplotlib.pyplot as plt \n",
    "import pandas as pd\n",
    "import sklearn\n",
    "import keras\n",
    "import tensorflow_addons as tfa\n",
    "from keras.models import *\n",
    "from keras.layers import *\n",
    "from keras.optimizers import *\n",
    "from keras.callbacks import *\n",
    "from tensorflow.keras.applications import *\n",
    "from keras.preprocessing.image import ImageDataGenerator\n",
    "import seaborn as sns               \n",
    "import tensorflow_datasets as tfds\n",
    "import tensorflow_hub as hub\n",
    "from time import time\n",
    "import glob, warnings\n",
    "from sklearn.metrics import confusion_matrix, classification_report\n",
    "warnings.filterwarnings('ignore')"
   ]
  },
  {
   "cell_type": "code",
   "execution_count": 4,
   "metadata": {
    "colab": {
     "base_uri": "https://localhost:8080/",
     "height": 204
    },
    "execution": {
     "iopub.execute_input": "2021-08-03T08:00:41.340618Z",
     "iopub.status.busy": "2021-08-03T08:00:41.340274Z",
     "iopub.status.idle": "2021-08-03T08:00:41.396180Z",
     "shell.execute_reply": "2021-08-03T08:00:41.395281Z",
     "shell.execute_reply.started": "2021-08-03T08:00:41.340586Z"
    },
    "id": "QeDeCN-mgkGq",
    "outputId": "c911bccf-1867-4d22-c188-9dee4377eec9"
   },
   "outputs": [
    {
     "data": {
      "text/html": [
       "<div>\n",
       "<style scoped>\n",
       "    .dataframe tbody tr th:only-of-type {\n",
       "        vertical-align: middle;\n",
       "    }\n",
       "\n",
       "    .dataframe tbody tr th {\n",
       "        vertical-align: top;\n",
       "    }\n",
       "\n",
       "    .dataframe thead th {\n",
       "        text-align: right;\n",
       "    }\n",
       "</style>\n",
       "<table border=\"1\" class=\"dataframe\">\n",
       "  <thead>\n",
       "    <tr style=\"text-align: right;\">\n",
       "      <th></th>\n",
       "      <th>file_id</th>\n",
       "      <th>label</th>\n",
       "    </tr>\n",
       "  </thead>\n",
       "  <tbody>\n",
       "    <tr>\n",
       "      <th>0</th>\n",
       "      <td>0</td>\n",
       "      <td>0</td>\n",
       "    </tr>\n",
       "    <tr>\n",
       "      <th>1</th>\n",
       "      <td>1</td>\n",
       "      <td>0</td>\n",
       "    </tr>\n",
       "    <tr>\n",
       "      <th>2</th>\n",
       "      <td>2</td>\n",
       "      <td>0</td>\n",
       "    </tr>\n",
       "    <tr>\n",
       "      <th>3</th>\n",
       "      <td>3</td>\n",
       "      <td>0</td>\n",
       "    </tr>\n",
       "    <tr>\n",
       "      <th>4</th>\n",
       "      <td>4</td>\n",
       "      <td>0</td>\n",
       "    </tr>\n",
       "  </tbody>\n",
       "</table>\n",
       "</div>"
      ],
      "text/plain": [
       "  file_id label\n",
       "0       0     0\n",
       "1       1     0\n",
       "2       2     0\n",
       "3       3     0\n",
       "4       4     0"
      ]
     },
     "execution_count": 4,
     "metadata": {},
     "output_type": "execute_result"
    }
   ],
   "source": [
    "traindf=pd.read_csv('/content/drive/MyDrive/dl_hackathon/train_(4).csv', dtype='str')\n",
    "traindf.head()"
   ]
  },
  {
   "cell_type": "code",
   "execution_count": 46,
   "metadata": {
    "colab": {
     "base_uri": "https://localhost:8080/"
    },
    "id": "YlzqtPwKyW4B",
    "outputId": "3604e2fa-00d7-479a-d2d2-d5914c89b0ea"
   },
   "outputs": [
    {
     "data": {
      "text/plain": [
       "(1709, 2)"
      ]
     },
     "execution_count": 46,
     "metadata": {},
     "output_type": "execute_result"
    }
   ],
   "source": [
    "traindf.shape"
   ]
  },
  {
   "cell_type": "code",
   "execution_count": 5,
   "metadata": {
    "colab": {
     "base_uri": "https://localhost:8080/",
     "height": 204
    },
    "id": "ePiGLEPFhFnO",
    "outputId": "7d3297a0-d49b-4308-b121-38180debce8d"
   },
   "outputs": [
    {
     "data": {
      "text/html": [
       "<div>\n",
       "<style scoped>\n",
       "    .dataframe tbody tr th:only-of-type {\n",
       "        vertical-align: middle;\n",
       "    }\n",
       "\n",
       "    .dataframe tbody tr th {\n",
       "        vertical-align: top;\n",
       "    }\n",
       "\n",
       "    .dataframe thead th {\n",
       "        text-align: right;\n",
       "    }\n",
       "</style>\n",
       "<table border=\"1\" class=\"dataframe\">\n",
       "  <thead>\n",
       "    <tr style=\"text-align: right;\">\n",
       "      <th></th>\n",
       "      <th>file_id</th>\n",
       "      <th>label</th>\n",
       "    </tr>\n",
       "  </thead>\n",
       "  <tbody>\n",
       "    <tr>\n",
       "      <th>0</th>\n",
       "      <td>0.jpg</td>\n",
       "      <td>0</td>\n",
       "    </tr>\n",
       "    <tr>\n",
       "      <th>1</th>\n",
       "      <td>1.jpg</td>\n",
       "      <td>0</td>\n",
       "    </tr>\n",
       "    <tr>\n",
       "      <th>2</th>\n",
       "      <td>2.jpg</td>\n",
       "      <td>0</td>\n",
       "    </tr>\n",
       "    <tr>\n",
       "      <th>3</th>\n",
       "      <td>3.jpg</td>\n",
       "      <td>0</td>\n",
       "    </tr>\n",
       "    <tr>\n",
       "      <th>4</th>\n",
       "      <td>4.jpg</td>\n",
       "      <td>0</td>\n",
       "    </tr>\n",
       "  </tbody>\n",
       "</table>\n",
       "</div>"
      ],
      "text/plain": [
       "  file_id label\n",
       "0   0.jpg     0\n",
       "1   1.jpg     0\n",
       "2   2.jpg     0\n",
       "3   3.jpg     0\n",
       "4   4.jpg     0"
      ]
     },
     "execution_count": 5,
     "metadata": {},
     "output_type": "execute_result"
    }
   ],
   "source": [
    "traindf['file_id'] = traindf['file_id'] + '.jpg'\n",
    "traindf.head()"
   ]
  },
  {
   "cell_type": "code",
   "execution_count": 6,
   "metadata": {
    "colab": {
     "base_uri": "https://localhost:8080/",
     "height": 0
    },
    "execution": {
     "iopub.execute_input": "2021-08-03T08:00:48.050586Z",
     "iopub.status.busy": "2021-08-03T08:00:48.050208Z",
     "iopub.status.idle": "2021-08-03T08:00:48.064111Z",
     "shell.execute_reply": "2021-08-03T08:00:48.062999Z",
     "shell.execute_reply.started": "2021-08-03T08:00:48.050554Z"
    },
    "id": "WV4c59VegkGu",
    "outputId": "79ac8a15-4feb-4bf3-a14d-010a57e44f6b"
   },
   "outputs": [
    {
     "name": "stdout",
     "output_type": "stream",
     "text": [
      "1    949\n",
      "0    760\n",
      "Name: label, dtype: int64\n"
     ]
    }
   ],
   "source": [
    "count = traindf['label'].value_counts() \n",
    "print(count) "
   ]
  },
  {
   "cell_type": "code",
   "execution_count": 7,
   "metadata": {
    "execution": {
     "iopub.execute_input": "2021-08-03T08:00:52.498417Z",
     "iopub.status.busy": "2021-08-03T08:00:52.498098Z",
     "iopub.status.idle": "2021-08-03T08:00:52.502341Z",
     "shell.execute_reply": "2021-08-03T08:00:52.501202Z",
     "shell.execute_reply.started": "2021-08-03T08:00:52.498386Z"
    },
    "id": "b64tmPgYgkGv"
   },
   "outputs": [],
   "source": [
    "train_path = '/content/drive/MyDrive/dl_hackathon/all'\n",
    "test_path = '/content/drive/MyDrive/dl_hackathon/test'"
   ]
  },
  {
   "cell_type": "code",
   "execution_count": 8,
   "metadata": {
    "colab": {
     "base_uri": "https://localhost:8080/",
     "height": 0
    },
    "execution": {
     "iopub.execute_input": "2021-08-03T08:00:57.181466Z",
     "iopub.status.busy": "2021-08-03T08:00:57.181115Z",
     "iopub.status.idle": "2021-08-03T08:00:57.237731Z",
     "shell.execute_reply": "2021-08-03T08:00:57.236825Z",
     "shell.execute_reply.started": "2021-08-03T08:00:57.181408Z"
    },
    "id": "vstc_nv5gkG0",
    "outputId": "f0b5c456-8f24-4aab-ce6b-9c7746e2d8fa"
   },
   "outputs": [
    {
     "name": "stdout",
     "output_type": "stream",
     "text": [
      "(1538, 2)\n",
      "(171, 2)\n"
     ]
    }
   ],
   "source": [
    "from sklearn.model_selection import train_test_split\n",
    "train, test = train_test_split(traindf, test_size = 0.1, random_state = 42, stratify = traindf['label'])\n",
    "print(train.shape)\n",
    "print(test.shape)"
   ]
  },
  {
   "cell_type": "code",
   "execution_count": 9,
   "metadata": {
    "execution": {
     "iopub.execute_input": "2021-08-03T08:01:04.461719Z",
     "iopub.status.busy": "2021-08-03T08:01:04.461306Z",
     "iopub.status.idle": "2021-08-03T08:01:04.468027Z",
     "shell.execute_reply": "2021-08-03T08:01:04.466939Z",
     "shell.execute_reply.started": "2021-08-03T08:01:04.461684Z"
    },
    "id": "xjFUl-lDgkG2"
   },
   "outputs": [],
   "source": [
    "datagen_train = ImageDataGenerator(\n",
    "    preprocessing_function = tf.keras.applications.efficientnet.preprocess_input,\n",
    "    rotation_range = 40,\n",
    "    width_shift_range = 0.2,\n",
    "    height_shift_range = 0.2,\n",
    "    shear_range = 0.2,\n",
    "    zoom_range = 0.2,\n",
    "    horizontal_flip = True,\n",
    "    vertical_flip = True,\n",
    "    fill_mode = 'nearest',\n",
    ")\n",
    "\n",
    "\n",
    "datagen_val = ImageDataGenerator(\n",
    "    preprocessing_function = tf.keras.applications.efficientnet.preprocess_input)"
   ]
  },
  {
   "cell_type": "code",
   "execution_count": 10,
   "metadata": {
    "colab": {
     "base_uri": "https://localhost:8080/",
     "height": 0
    },
    "execution": {
     "iopub.execute_input": "2021-08-03T08:01:10.262373Z",
     "iopub.status.busy": "2021-08-03T08:01:10.262049Z",
     "iopub.status.idle": "2021-08-03T08:01:49.357861Z",
     "shell.execute_reply": "2021-08-03T08:01:49.357044Z",
     "shell.execute_reply.started": "2021-08-03T08:01:10.262343Z"
    },
    "id": "HtMzFb-JgkG4",
    "outputId": "f703b6a5-d4df-4321-fce0-d9c66fa049f5"
   },
   "outputs": [
    {
     "name": "stdout",
     "output_type": "stream",
     "text": [
      "Found 1538 validated image filenames belonging to 2 classes.\n",
      "Found 171 validated image filenames belonging to 2 classes.\n"
     ]
    }
   ],
   "source": [
    "train_set = datagen_train.flow_from_dataframe(\n",
    "    train,\n",
    "    directory=train_path,\n",
    "    seed=42,\n",
    "    x_col='file_id',\n",
    "    y_col=\"label\",\n",
    "    target_size = (300,300),\n",
    "    class_mode='categorical',\n",
    "    interpolation='nearest',\n",
    "    color_mode = 'rgb',\n",
    "    shuffle = True,\n",
    "    batch_size = 32,\n",
    ")\n",
    "test_set = datagen_val.flow_from_dataframe(\n",
    "    test,\n",
    "    directory=train_path,\n",
    "    seed= 42,\n",
    "    x_col='file_id',\n",
    "    y_col=\"label\",\n",
    "    target_size = (300,300),\n",
    "    color_mode = 'rgb',\n",
    "    class_mode='categorical',\n",
    "    interpolation='nearest',\n",
    "    shuffle=False,\n",
    "    batch_size= 32,    \n",
    ")\n",
    "\n"
   ]
  },
  {
   "cell_type": "code",
   "execution_count": 19,
   "metadata": {
    "colab": {
     "base_uri": "https://localhost:8080/",
     "height": 0
    },
    "execution": {
     "iopub.execute_input": "2021-08-03T08:02:06.196266Z",
     "iopub.status.busy": "2021-08-03T08:02:06.195935Z",
     "iopub.status.idle": "2021-08-03T08:02:12.589459Z",
     "shell.execute_reply": "2021-08-03T08:02:12.588398Z",
     "shell.execute_reply.started": "2021-08-03T08:02:06.196232Z"
    },
    "id": "gqzcnF2SgkG5",
    "outputId": "646d53d7-2128-4a53-8a74-16dd71c57ea2"
   },
   "outputs": [
    {
     "name": "stdout",
     "output_type": "stream",
     "text": [
      "Downloading data from https://storage.googleapis.com/keras-applications/efficientnetb2_notop.h5\n",
      "31793152/31790344 [==============================] - 1s 0us/step\n",
      "31801344/31790344 [==============================] - 1s 0us/step\n"
     ]
    }
   ],
   "source": [
    "IMG_SIZE = 300\n",
    "n_CLASS = 2\n",
    "\n",
    "pretrained_model =    tf.keras.applications.efficientnet.EfficientNetB2(\n",
    "            input_shape = (IMG_SIZE, IMG_SIZE, 3), \n",
    "            include_top = False,\n",
    "            weights='imagenet',\n",
    "            #drop_connect_rate=0.6,\n",
    "        )\n",
    "def create_model():\n",
    "    \n",
    "    model = Sequential()\n",
    "    # initialize the model with input shape\n",
    "    model.add(pretrained_model)\n",
    "    model.add(GlobalAveragePooling2D())\n",
    "    model.add(Flatten())\n",
    "    model.add(Dense(\n",
    "        256, \n",
    "        activation= tfa.activations.gelu,        \n",
    "        bias_regularizer=tf.keras.regularizers.L1L2(l1=0.01, l2=0.001)\n",
    "    ))\n",
    "    model.add(Dense(100, activation = tfa.activations.gelu))\n",
    "    model.add(Dropout(0.4 , seed = 42))\n",
    "    model.add(Dense(n_CLASS, activation = 'softmax'))\n",
    "    \n",
    "    return model\n",
    "fake_model = create_model()"
   ]
  },
  {
   "cell_type": "code",
   "execution_count": 20,
   "metadata": {
    "colab": {
     "base_uri": "https://localhost:8080/",
     "height": 0
    },
    "execution": {
     "iopub.execute_input": "2021-08-03T08:02:17.064541Z",
     "iopub.status.busy": "2021-08-03T08:02:17.064208Z",
     "iopub.status.idle": "2021-08-03T08:02:17.096843Z",
     "shell.execute_reply": "2021-08-03T08:02:17.095885Z",
     "shell.execute_reply.started": "2021-08-03T08:02:17.064511Z"
    },
    "id": "uiJkWYpngkG7",
    "outputId": "364982cd-d88b-4a65-ca64-df20576249a7"
   },
   "outputs": [
    {
     "name": "stdout",
     "output_type": "stream",
     "text": [
      "Model: \"sequential_1\"\n",
      "_________________________________________________________________\n",
      "Layer (type)                 Output Shape              Param #   \n",
      "=================================================================\n",
      "efficientnetb2 (Functional)  (None, 10, 10, 1408)      7768569   \n",
      "_________________________________________________________________\n",
      "global_average_pooling2d_1 ( (None, 1408)              0         \n",
      "_________________________________________________________________\n",
      "flatten_1 (Flatten)          (None, 1408)              0         \n",
      "_________________________________________________________________\n",
      "dense_3 (Dense)              (None, 256)               360704    \n",
      "_________________________________________________________________\n",
      "dense_4 (Dense)              (None, 100)               25700     \n",
      "_________________________________________________________________\n",
      "dropout_1 (Dropout)          (None, 100)               0         \n",
      "_________________________________________________________________\n",
      "dense_5 (Dense)              (None, 2)                 202       \n",
      "=================================================================\n",
      "Total params: 8,155,175\n",
      "Trainable params: 8,087,600\n",
      "Non-trainable params: 67,575\n",
      "_________________________________________________________________\n"
     ]
    }
   ],
   "source": [
    "fake_model.summary()"
   ]
  },
  {
   "cell_type": "code",
   "execution_count": 21,
   "metadata": {
    "colab": {
     "base_uri": "https://localhost:8080/",
     "height": 758
    },
    "execution": {
     "iopub.execute_input": "2021-08-02T15:57:47.190049Z",
     "iopub.status.busy": "2021-08-02T15:57:47.189698Z",
     "iopub.status.idle": "2021-08-02T15:57:47.641303Z",
     "shell.execute_reply": "2021-08-02T15:57:47.64042Z",
     "shell.execute_reply.started": "2021-08-02T15:57:47.190012Z"
    },
    "id": "c3d8YmMqgkG8",
    "outputId": "c057fb56-c5f4-4959-d47e-595977f4c761"
   },
   "outputs": [
    {
     "data": {
      "image/png": "[encoded data removed]",
      "text/plain": [
       "<IPython.core.display.Image object>"
      ]
     },
     "execution_count": 21,
     "metadata": {},
     "output_type": "execute_result"
    }
   ],
   "source": [
    "tf.keras.utils.plot_model(fake_model)"
   ]
  },
  {
   "cell_type": "code",
   "execution_count": 22,
   "metadata": {
    "execution": {
     "iopub.execute_input": "2021-08-02T15:57:47.655489Z",
     "iopub.status.busy": "2021-08-02T15:57:47.654975Z",
     "iopub.status.idle": "2021-08-02T15:57:47.690818Z",
     "shell.execute_reply": "2021-08-02T15:57:47.689834Z",
     "shell.execute_reply.started": "2021-08-02T15:57:47.655452Z"
    },
    "id": "k50L28kpgkG9"
   },
   "outputs": [],
   "source": [
    "learning_rate = 1e-3\n",
    "optimizer = tf.keras.optimizers.Adam(learning_rate = learning_rate)\n",
    "\n",
    "fake_model.compile(optimizer = optimizer, \n",
    "              loss = tf.keras.losses.CategoricalCrossentropy(), \n",
    "              metrics = 'accuracy')\n",
    "\n",
    "\n",
    "reduce_lr = tf.keras.callbacks.ReduceLROnPlateau(monitor = 'val_accuracy',\n",
    "                                                 factor = 0.2,\n",
    "                                                 patience = 1,\n",
    "                                                 verbose = 1,\n",
    "                                                 min_delta = 1e-4,\n",
    "                                                 min_lr = 1e-7,\n",
    "                                                 mode = 'max')\n",
    "\n",
    "earlystopping = tf.keras.callbacks.EarlyStopping(monitor = 'val_accuracy',\n",
    "                                                 min_delta = 1e-4,\n",
    "                                                 patience = 5,\n",
    "                                                 mode = 'max',\n",
    "                                                 restore_best_weights = True,\n",
    "                                                 verbose = 1)\n",
    "\n",
    "checkpointer = tf.keras.callbacks.ModelCheckpoint(filepath ='./fake1.hdf5',\n",
    "                                                  monitor = 'val_accuracy', \n",
    "                                                  verbose = 1, \n",
    "                                                  save_best_only = True,\n",
    "                                                  save_weights_only = True,\n",
    "                                                  mode = 'max')\n"
   ]
  },
  {
   "cell_type": "code",
   "execution_count": 23,
   "metadata": {
    "execution": {
     "iopub.execute_input": "2021-08-02T15:57:47.692356Z",
     "iopub.status.busy": "2021-08-02T15:57:47.691986Z",
     "iopub.status.idle": "2021-08-02T15:57:47.7005Z",
     "shell.execute_reply": "2021-08-02T15:57:47.69976Z",
     "shell.execute_reply.started": "2021-08-02T15:57:47.692321Z"
    },
    "id": "Z_YLb68PgkG-"
   },
   "outputs": [],
   "source": [
    "class TimeHistory(tf.keras.callbacks.Callback):\n",
    "    def on_train_begin(self, logs={}):\n",
    "        self.times = []\n",
    "\n",
    "    def on_epoch_begin(self, batch, logs={}):\n",
    "        self.epoch_time_start = time()\n",
    "\n",
    "    def on_epoch_end(self, batch, logs={}):\n",
    "        self.times.append(time() - self.epoch_time_start)\n",
    "        \n",
    "\n",
    "time_callback = TimeHistory()"
   ]
  },
  {
   "cell_type": "code",
   "execution_count": null,
   "metadata": {
    "execution": {
     "iopub.execute_input": "2021-08-02T15:57:47.703648Z",
     "iopub.status.busy": "2021-08-02T15:57:47.703389Z",
     "iopub.status.idle": "2021-08-02T18:39:55.193945Z",
     "shell.execute_reply": "2021-08-02T18:39:55.19255Z",
     "shell.execute_reply.started": "2021-08-02T15:57:47.703624Z"
    },
    "id": "vED_n4eNgkG_"
   },
   "outputs": [],
   "source": [
    "int_epoch = 15\n",
    "callbacks = [earlystopping, reduce_lr, checkpointer,time_callback] \n",
    "history = fake_model.fit(x = train_set,\n",
    "          validation_data = test_set,\n",
    "          epochs = int_epoch,\n",
    "          callbacks = callbacks)    "
   ]
  },
  {
   "cell_type": "code",
   "execution_count": 25,
   "metadata": {
    "colab": {
     "base_uri": "https://localhost:8080/"
    },
    "execution": {
     "iopub.execute_input": "2021-08-02T18:39:55.19584Z",
     "iopub.status.busy": "2021-08-02T18:39:55.19555Z",
     "iopub.status.idle": "2021-08-02T18:39:55.204965Z",
     "shell.execute_reply": "2021-08-02T18:39:55.202459Z",
     "shell.execute_reply.started": "2021-08-02T18:39:55.195801Z"
    },
    "id": "a5WWrbkTgkG_",
    "outputId": "a9017ca9-e1dc-4453-c4a8-370ebe0dc6da"
   },
   "outputs": [
    {
     "name": "stdout",
     "output_type": "stream",
     "text": [
      "Not using Gradient Centralization:\n",
      "Loss: 0.16467325389385223\n",
      "accuracy: 0.9343302845954895\n",
      "Validation accuracy: 0.8538011908531189\n",
      "Training Time: 2129.4321615695953\n"
     ]
    }
   ],
   "source": [
    " print(\"Not using Gradient Centralization:\")    \n",
    "print(f\"Loss: {history.history['loss'][-1]}\")         \n",
    "print(f\"accuracy: {history.history['accuracy'][-1]}\")     \n",
    "print(f\"Validation accuracy: {history.history['val_accuracy'][-1]}\") \n",
    "print(f\"Training Time: {sum(time_callback.times)}\")     "
   ]
  },
  {
   "cell_type": "code",
   "execution_count": 26,
   "metadata": {
    "colab": {
     "base_uri": "https://localhost:8080/"
    },
    "execution": {
     "iopub.execute_input": "2021-08-02T18:39:55.207537Z",
     "iopub.status.busy": "2021-08-02T18:39:55.207084Z",
     "iopub.status.idle": "2021-08-02T18:39:55.216046Z",
     "shell.execute_reply": "2021-08-02T18:39:55.215082Z",
     "shell.execute_reply.started": "2021-08-02T18:39:55.207501Z"
    },
    "id": "Y1DDDDcigkHA",
    "outputId": "d8df32c7-92fd-4d38-f0ad-63524f516812"
   },
   "outputs": [
    {
     "name": "stdout",
     "output_type": "stream",
     "text": [
      "0.9343302845954895\n"
     ]
    }
   ],
   "source": [
    "acc = history.history['accuracy']\n",
    "print(max(acc))"
   ]
  },
  {
   "cell_type": "code",
   "execution_count": 27,
   "metadata": {
    "colab": {
     "base_uri": "https://localhost:8080/",
     "height": 643
    },
    "execution": {
     "iopub.execute_input": "2021-08-02T18:44:07.300938Z",
     "iopub.status.busy": "2021-08-02T18:44:07.300593Z",
     "iopub.status.idle": "2021-08-02T18:44:08.068561Z",
     "shell.execute_reply": "2021-08-02T18:44:08.067593Z",
     "shell.execute_reply.started": "2021-08-02T18:44:07.300907Z"
    },
    "id": "GTDIyY4UgkHA",
    "outputId": "d3d8c0bf-7ff4-48b1-e9f2-a1ecf1b08f64"
   },
   "outputs": [
    {
     "data": {
      "image/png": "[encoded data removed]",
      "text/plain": [
       "<Figure size 648x648 with 2 Axes>"
      ]
     },
     "metadata": {
      "needs_background": "light"
     },
     "output_type": "display_data"
    }
   ],
   "source": [
    "acc = history.history['accuracy']\n",
    "val_acc = history.history['val_accuracy']\n",
    "\n",
    "loss = history.history['loss']\n",
    "val_loss = history.history['val_loss'] \n",
    "\n",
    "\n",
    "plt.figure(figsize=(9, 9)) \n",
    "plt.subplot(2, 1, 1)\n",
    "plt.tight_layout(pad=3.0)\n",
    "plt.plot(acc, label='Train' , linewidth = 3)\n",
    "plt.plot(val_acc, label='Validation', linewidth = 3)\n",
    "plt.xticks(fontsize=15)\n",
    "plt.yticks(fontsize=15)\n",
    "plt.legend(loc='lower right' , prop={'size': 16})\n",
    "plt.xlabel('Epochs', fontsize=16)\n",
    "plt.ylabel('Accuracy' , fontsize=16)\n",
    "plt.ylim([min(plt.ylim()),1])\n",
    "plt.title('Training and Validation Accuracy', fontsize=16)\n",
    "\n",
    "plt.subplot(2, 1, 2)\n",
    "plt.tight_layout(pad=3.0)\n",
    "plt.plot(loss, label='Train', linewidth = 3)\n",
    "plt.plot(val_loss, label='Validation', linewidth = 3)\n",
    "plt.xticks(fontsize=15)\n",
    "plt.yticks(fontsize=15)\n",
    "plt.legend(loc='upper right', prop={'size': 16})\n",
    "plt.xlabel('Epochs', fontsize=16)\n",
    "plt.ylabel('Loss', fontsize=16)\n",
    "plt.ylim([0,max(plt.ylim())])\n",
    "plt.title('Training and Validation Loss', fontsize=16)\n",
    "plt.show()"
   ]
  },
  {
   "cell_type": "code",
   "execution_count": 28,
   "metadata": {
    "execution": {
     "iopub.execute_input": "2021-08-03T08:02:28.139173Z",
     "iopub.status.busy": "2021-08-03T08:02:28.138805Z",
     "iopub.status.idle": "2021-08-03T08:02:28.143126Z",
     "shell.execute_reply": "2021-08-03T08:02:28.142133Z",
     "shell.execute_reply.started": "2021-08-03T08:02:28.139139Z"
    },
    "id": "gpxkV87FgkHB"
   },
   "outputs": [],
   "source": [
    "def load_trained_model(weights_path):\n",
    "   model = create_model()\n",
    "   model.load_weights(weights_path)\n",
    "   return model"
   ]
  },
  {
   "cell_type": "code",
   "execution_count": 30,
   "metadata": {
    "colab": {
     "base_uri": "https://localhost:8080/"
    },
    "execution": {
     "iopub.execute_input": "2021-08-03T08:02:30.393274Z",
     "iopub.status.busy": "2021-08-03T08:02:30.392944Z",
     "iopub.status.idle": "2021-08-03T08:02:32.937582Z",
     "shell.execute_reply": "2021-08-03T08:02:32.936746Z",
     "shell.execute_reply.started": "2021-08-03T08:02:30.393241Z"
    },
    "id": "XgKti9tCgkHB",
    "outputId": "9d59c76b-27eb-424a-bcea-e65fbb17e656"
   },
   "outputs": [
    {
     "name": "stdout",
     "output_type": "stream",
     "text": [
      "Model: \"sequential_3\"\n",
      "_________________________________________________________________\n",
      "Layer (type)                 Output Shape              Param #   \n",
      "=================================================================\n",
      "efficientnetb2 (Functional)  (None, 10, 10, 1408)      7768569   \n",
      "_________________________________________________________________\n",
      "global_average_pooling2d_3 ( (None, 1408)              0         \n",
      "_________________________________________________________________\n",
      "flatten_3 (Flatten)          (None, 1408)              0         \n",
      "_________________________________________________________________\n",
      "dense_9 (Dense)              (None, 256)               360704    \n",
      "_________________________________________________________________\n",
      "dense_10 (Dense)             (None, 100)               25700     \n",
      "_________________________________________________________________\n",
      "dropout_3 (Dropout)          (None, 100)               0         \n",
      "_________________________________________________________________\n",
      "dense_11 (Dense)             (None, 2)                 202       \n",
      "=================================================================\n",
      "Total params: 8,155,175\n",
      "Trainable params: 8,087,600\n",
      "Non-trainable params: 67,575\n",
      "_________________________________________________________________\n"
     ]
    }
   ],
   "source": [
    "new_model = load_trained_model('fake1.hdf5')\n",
    "new_model.summary()"
   ]
  },
  {
   "cell_type": "code",
   "execution_count": 35,
   "metadata": {
    "colab": {
     "base_uri": "https://localhost:8080/",
     "height": 204
    },
    "id": "MlfR3fl8uM0A",
    "outputId": "8dfe5ca8-115d-4cde-dc1a-3ea1becb8d5b"
   },
   "outputs": [
    {
     "data": {
      "text/html": [
       "<div>\n",
       "<style scoped>\n",
       "    .dataframe tbody tr th:only-of-type {\n",
       "        vertical-align: middle;\n",
       "    }\n",
       "\n",
       "    .dataframe tbody tr th {\n",
       "        vertical-align: top;\n",
       "    }\n",
       "\n",
       "    .dataframe thead th {\n",
       "        text-align: right;\n",
       "    }\n",
       "</style>\n",
       "<table border=\"1\" class=\"dataframe\">\n",
       "  <thead>\n",
       "    <tr style=\"text-align: right;\">\n",
       "      <th></th>\n",
       "      <th>file_id</th>\n",
       "    </tr>\n",
       "  </thead>\n",
       "  <tbody>\n",
       "    <tr>\n",
       "      <th>0</th>\n",
       "      <td>0</td>\n",
       "    </tr>\n",
       "    <tr>\n",
       "      <th>1</th>\n",
       "      <td>1</td>\n",
       "    </tr>\n",
       "    <tr>\n",
       "      <th>2</th>\n",
       "      <td>2</td>\n",
       "    </tr>\n",
       "    <tr>\n",
       "      <th>3</th>\n",
       "      <td>3</td>\n",
       "    </tr>\n",
       "    <tr>\n",
       "      <th>4</th>\n",
       "      <td>4</td>\n",
       "    </tr>\n",
       "  </tbody>\n",
       "</table>\n",
       "</div>"
      ],
      "text/plain": [
       "  file_id\n",
       "0       0\n",
       "1       1\n",
       "2       2\n",
       "3       3\n",
       "4       4"
      ]
     },
     "execution_count": 35,
     "metadata": {},
     "output_type": "execute_result"
    }
   ],
   "source": [
    "testdf=pd.read_csv('/content/drive/MyDrive/dl_hackathon/test_(3).csv', dtype='str')\n",
    "testdf.head()"
   ]
  },
  {
   "cell_type": "code",
   "execution_count": 37,
   "metadata": {
    "colab": {
     "base_uri": "https://localhost:8080/",
     "height": 204
    },
    "id": "xq5MeBbSuWJQ",
    "outputId": "df90e2fc-c9e2-4048-de1a-2de4a3b7a31b"
   },
   "outputs": [
    {
     "data": {
      "text/html": [
       "<div>\n",
       "<style scoped>\n",
       "    .dataframe tbody tr th:only-of-type {\n",
       "        vertical-align: middle;\n",
       "    }\n",
       "\n",
       "    .dataframe tbody tr th {\n",
       "        vertical-align: top;\n",
       "    }\n",
       "\n",
       "    .dataframe thead th {\n",
       "        text-align: right;\n",
       "    }\n",
       "</style>\n",
       "<table border=\"1\" class=\"dataframe\">\n",
       "  <thead>\n",
       "    <tr style=\"text-align: right;\">\n",
       "      <th></th>\n",
       "      <th>file_id</th>\n",
       "    </tr>\n",
       "  </thead>\n",
       "  <tbody>\n",
       "    <tr>\n",
       "      <th>0</th>\n",
       "      <td>0.jpg</td>\n",
       "    </tr>\n",
       "    <tr>\n",
       "      <th>1</th>\n",
       "      <td>1.jpg</td>\n",
       "    </tr>\n",
       "    <tr>\n",
       "      <th>2</th>\n",
       "      <td>2.jpg</td>\n",
       "    </tr>\n",
       "    <tr>\n",
       "      <th>3</th>\n",
       "      <td>3.jpg</td>\n",
       "    </tr>\n",
       "    <tr>\n",
       "      <th>4</th>\n",
       "      <td>4.jpg</td>\n",
       "    </tr>\n",
       "  </tbody>\n",
       "</table>\n",
       "</div>"
      ],
      "text/plain": [
       "  file_id\n",
       "0   0.jpg\n",
       "1   1.jpg\n",
       "2   2.jpg\n",
       "3   3.jpg\n",
       "4   4.jpg"
      ]
     },
     "execution_count": 37,
     "metadata": {},
     "output_type": "execute_result"
    }
   ],
   "source": [
    "testdf['file_id'] = testdf['file_id'] + '.jpg'\n",
    "testdf.head()"
   ]
  },
  {
   "cell_type": "code",
   "execution_count": 38,
   "metadata": {
    "id": "PS7f8Oswswym"
   },
   "outputs": [],
   "source": [
    "datagen_test = ImageDataGenerator(\n",
    "    preprocessing_function = tf.keras.applications.efficientnet.preprocess_input)"
   ]
  },
  {
   "cell_type": "code",
   "execution_count": 42,
   "metadata": {
    "colab": {
     "base_uri": "https://localhost:8080/"
    },
    "id": "62BQ-MrouCDX",
    "outputId": "133576db-b631-4866-a084-f687f54747f9"
   },
   "outputs": [
    {
     "name": "stdout",
     "output_type": "stream",
     "text": [
      "Found 332 validated image filenames.\n"
     ]
    }
   ],
   "source": [
    "main_test = datagen_val.flow_from_dataframe(\n",
    "    testdf,\n",
    "    directory=test_path,\n",
    "    seed= 42,\n",
    "    x_col='file_id',\n",
    "    y_col = None,\n",
    "    target_size = (300,300),\n",
    "    color_mode = 'rgb',\n",
    "    class_mode=None,\n",
    "    interpolation='nearest',\n",
    "    shuffle=False,\n",
    "    batch_size= 32,    \n",
    ")"
   ]
  },
  {
   "cell_type": "code",
   "execution_count": 43,
   "metadata": {
    "execution": {
     "iopub.execute_input": "2021-08-03T08:02:36.334594Z",
     "iopub.status.busy": "2021-08-03T08:02:36.334245Z",
     "iopub.status.idle": "2021-08-03T08:03:19.696883Z",
     "shell.execute_reply": "2021-08-03T08:03:19.695836Z",
     "shell.execute_reply.started": "2021-08-03T08:02:36.334561Z"
    },
    "id": "9pckmV9EgkHD"
   },
   "outputs": [],
   "source": [
    "y_pred = new_model.predict(main_test)"
   ]
  },
  {
   "cell_type": "code",
   "execution_count": 45,
   "metadata": {
    "colab": {
     "base_uri": "https://localhost:8080/"
    },
    "execution": {
     "iopub.execute_input": "2021-08-03T08:03:37.137666Z",
     "iopub.status.busy": "2021-08-03T08:03:37.137284Z",
     "iopub.status.idle": "2021-08-03T08:03:37.150691Z",
     "shell.execute_reply": "2021-08-03T08:03:37.149666Z",
     "shell.execute_reply.started": "2021-08-03T08:03:37.137629Z"
    },
    "id": "Njr8lE8VgkHD",
    "outputId": "bec70396-4369-47a8-90f9-d7cc715b3a2a"
   },
   "outputs": [
    {
     "name": "stdout",
     "output_type": "stream",
     "text": [
      "tf.Tensor(\n",
      "[0 0 1 1 0 0 0 1 1 1 1 0 0 1 0 1 1 0 0 0 0 1 1 0 0 1 1 1 1 0 0 0 1 1 0 1 1\n",
      " 1 0 0 0 0 1 0 0 1 0 0 1 0 0 0 0 0 0 0 1 0 1 1 0 0 0 1 0 0 0 0 0 0 0 0 0 1\n",
      " 0 0 1 1 0 0 0 1 0 0 1 0 0 0 0 0 1 0 0 0 0 1 0 0 0 0 0 0 0 0 0 1 0 0 0 0 0\n",
      " 1 0 0 0 0 0 1 0 0 0 1 0 1 1 1 1 1 1 1 1 1 0 0 0 1 1 1 1 1 0 0 0 0 0 0 1 0\n",
      " 1 0 0 0 0 1 0 1 0 0 1 0 0 0 0 1 0 0 1 0 0 1 0 1 0 0 1 0 1 0 0 1 1 0 1 0 0\n",
      " 0 1 0 0 0 0 0 0 0 0 0 0 0 0 1 1 0 1 1 0 1 0 1 1 1 0 1 1 1 1 1 1 1 1 1 1 1\n",
      " 1 1 1 1 1 1 1 1 1 1 1 1 1 1 1 1 1 1 0 1 1 1 1 1 1 1 1 1 1 1 1 1 1 1 1 0 1\n",
      " 1 1 1 1 1 1 0 1 1 1 1 1 1 1 1 1 1 0 1 1 1 1 1 1 1 1 1 1 1 1 1 1 1 0 1 1 1\n",
      " 1 1 1 1 0 1 1 1 1 1 1 1 1 0 1 1 1 1 1 1 1 1 1 1 1 1 1 1 1 1 1 1 1 1 1 1], shape=(332,), dtype=int64)\n"
     ]
    }
   ],
   "source": [
    "y_predargmax = tf.argmax(y_pred , 1)\n",
    "print(y_predargmax)"
   ]
  },
  {
   "cell_type": "code",
   "execution_count": 48,
   "metadata": {
    "colab": {
     "base_uri": "https://localhost:8080/",
     "height": 204
    },
    "id": "-wDLg_4WxPyN",
    "outputId": "a6b414d6-8b6f-4660-8c24-e7107bf44dfe"
   },
   "outputs": [
    {
     "data": {
      "text/html": [
       "<div>\n",
       "<style scoped>\n",
       "    .dataframe tbody tr th:only-of-type {\n",
       "        vertical-align: middle;\n",
       "    }\n",
       "\n",
       "    .dataframe tbody tr th {\n",
       "        vertical-align: top;\n",
       "    }\n",
       "\n",
       "    .dataframe thead th {\n",
       "        text-align: right;\n",
       "    }\n",
       "</style>\n",
       "<table border=\"1\" class=\"dataframe\">\n",
       "  <thead>\n",
       "    <tr style=\"text-align: right;\">\n",
       "      <th></th>\n",
       "      <th>file_id</th>\n",
       "    </tr>\n",
       "  </thead>\n",
       "  <tbody>\n",
       "    <tr>\n",
       "      <th>0</th>\n",
       "      <td>0</td>\n",
       "    </tr>\n",
       "    <tr>\n",
       "      <th>1</th>\n",
       "      <td>1</td>\n",
       "    </tr>\n",
       "    <tr>\n",
       "      <th>2</th>\n",
       "      <td>2</td>\n",
       "    </tr>\n",
       "    <tr>\n",
       "      <th>3</th>\n",
       "      <td>3</td>\n",
       "    </tr>\n",
       "    <tr>\n",
       "      <th>4</th>\n",
       "      <td>4</td>\n",
       "    </tr>\n",
       "  </tbody>\n",
       "</table>\n",
       "</div>"
      ],
      "text/plain": [
       "  file_id\n",
       "0       0\n",
       "1       1\n",
       "2       2\n",
       "3       3\n",
       "4       4"
      ]
     },
     "execution_count": 48,
     "metadata": {},
     "output_type": "execute_result"
    }
   ],
   "source": [
    "final_test = pd.read_csv('/content/drive/MyDrive/dl_hackathon/test_(3).csv', dtype='str')\n",
    "final_test.head()"
   ]
  },
  {
   "cell_type": "code",
   "execution_count": 49,
   "metadata": {
    "id": "b8yAKjCoy0EU"
   },
   "outputs": [],
   "source": [
    "final_test['label'] = y_predargmax"
   ]
  },
  {
   "cell_type": "code",
   "execution_count": 50,
   "metadata": {
    "colab": {
     "base_uri": "https://localhost:8080/",
     "height": 204
    },
    "id": "HWsFfqi_zC5P",
    "outputId": "fd8e8a7d-34f2-4274-c063-44604e60e523"
   },
   "outputs": [
    {
     "data": {
      "text/html": [
       "<div>\n",
       "<style scoped>\n",
       "    .dataframe tbody tr th:only-of-type {\n",
       "        vertical-align: middle;\n",
       "    }\n",
       "\n",
       "    .dataframe tbody tr th {\n",
       "        vertical-align: top;\n",
       "    }\n",
       "\n",
       "    .dataframe thead th {\n",
       "        text-align: right;\n",
       "    }\n",
       "</style>\n",
       "<table border=\"1\" class=\"dataframe\">\n",
       "  <thead>\n",
       "    <tr style=\"text-align: right;\">\n",
       "      <th></th>\n",
       "      <th>file_id</th>\n",
       "      <th>label</th>\n",
       "    </tr>\n",
       "  </thead>\n",
       "  <tbody>\n",
       "    <tr>\n",
       "      <th>0</th>\n",
       "      <td>0</td>\n",
       "      <td>0</td>\n",
       "    </tr>\n",
       "    <tr>\n",
       "      <th>1</th>\n",
       "      <td>1</td>\n",
       "      <td>0</td>\n",
       "    </tr>\n",
       "    <tr>\n",
       "      <th>2</th>\n",
       "      <td>2</td>\n",
       "      <td>1</td>\n",
       "    </tr>\n",
       "    <tr>\n",
       "      <th>3</th>\n",
       "      <td>3</td>\n",
       "      <td>1</td>\n",
       "    </tr>\n",
       "    <tr>\n",
       "      <th>4</th>\n",
       "      <td>4</td>\n",
       "      <td>0</td>\n",
       "    </tr>\n",
       "  </tbody>\n",
       "</table>\n",
       "</div>"
      ],
      "text/plain": [
       "  file_id  label\n",
       "0       0      0\n",
       "1       1      0\n",
       "2       2      1\n",
       "3       3      1\n",
       "4       4      0"
      ]
     },
     "execution_count": 50,
     "metadata": {},
     "output_type": "execute_result"
    }
   ],
   "source": [
    "final_test.head()"
   ]
  },
  {
   "cell_type": "code",
   "execution_count": 51,
   "metadata": {
    "id": "F1ON8rNtwm2-"
   },
   "outputs": [],
   "source": [
    "final_test.to_csv('submission.csv', index=False)"
   ]
  }
 ],
 "metadata": {
  "accelerator": "GPU",
  "colab": {
   "name": "2707-efficeintnet.ipynb",
   "provenance": []
  },
  "kernelspec": {
   "display_name": "Python 3",
   "language": "python",
   "name": "python3"
  },
  "language_info": {
   "codemirror_mode": {
    "name": "ipython",
    "version": 3
   },
   "file_extension": ".py",
   "mimetype": "text/x-python",
   "name": "python",
   "nbconvert_exporter": "python",
   "pygments_lexer": "ipython3",
   "version": "3.8.3"
  }
 },
 "nbformat": 4,
 "nbformat_minor": 1
}
